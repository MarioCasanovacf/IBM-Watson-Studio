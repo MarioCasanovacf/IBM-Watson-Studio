{
  "metadata": {
    "language_info": {
      "codemirror_mode": {
        "name": "python",
        "version": 3
      },
      "file_extension": ".py",
      "mimetype": "text/x-python",
      "name": "python",
      "nbconvert_exporter": "python",
      "pygments_lexer": "ipython3",
      "version": "3.8"
    },
    "kernelspec": {
      "name": "python",
      "display_name": "Pyolite",
      "language": "python"
    }
  },
  "nbformat_minor": 4,
  "nbformat": 4,
  "cells": [
    {
      "cell_type": "markdown",
      "source": "# My Jupiter Noteboon in IBM Watson Studio",
      "metadata": {}
    },
    {
      "cell_type": "markdown",
      "source": "**Mario David Arcangel Casanova Jeronimo**\n\nI'm a Junior Data Analyst, I want to become a Senior Data Analyst/Scientist and then a Business Analyst.",
      "metadata": {}
    },
    {
      "cell_type": "markdown",
      "source": "*I'm interested in Data Science 'cause I think is the future of the analysis and decission making*\n\n*Also, I'm looking to learn a lot of Data Science so I can develop a new algorithm to improve human finances*",
      "metadata": {}
    },
    {
      "cell_type": "markdown",
      "source": "### In the next cell, you will find a code that prints a phrase to salute the reader.",
      "metadata": {}
    },
    {
      "cell_type": "code",
      "source": "print('Hello, I hope you are enjoying the reading')",
      "metadata": {
        "trusted": true
      },
      "execution_count": 2,
      "outputs": [
        {
          "name": "stdout",
          "text": "Hello, I hope you are enjoying the reading\n",
          "output_type": "stream"
        }
      ]
    },
    {
      "cell_type": "markdown",
      "source": "`Hi, this is a highlight code`\n\n* This is a bulleted list\n* 1\n* 2\n\n***\nHere is a horizontal rule\n***",
      "metadata": {}
    },
    {
      "cell_type": "code",
      "source": "",
      "metadata": {},
      "execution_count": null,
      "outputs": []
    }
  ]
}